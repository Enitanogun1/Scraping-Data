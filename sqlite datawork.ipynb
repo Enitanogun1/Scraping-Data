{
 "cells": [
  {
   "cell_type": "code",
   "execution_count": 1,
   "id": "34ee4d6f",
   "metadata": {},
   "outputs": [
    {
     "ename": "OperationalError",
     "evalue": "table people already exists",
     "output_type": "error",
     "traceback": [
      "\u001b[0;31m---------------------------------------------------------------------------\u001b[0m",
      "\u001b[0;31mOperationalError\u001b[0m                          Traceback (most recent call last)",
      "Cell \u001b[0;32mIn[1], line 12\u001b[0m\n\u001b[1;32m      9\u001b[0m table \u001b[38;5;241m=\u001b[39m \u001b[38;5;124m'\u001b[39m\u001b[38;5;124mCREATE TABLE people(id int primary key, name TEXT, surname TEXT)\u001b[39m\u001b[38;5;124m'\u001b[39m\n\u001b[1;32m     11\u001b[0m cursor \u001b[38;5;241m=\u001b[39m connection\u001b[38;5;241m.\u001b[39mcursor()\n\u001b[0;32m---> 12\u001b[0m cursor\u001b[38;5;241m.\u001b[39mexecute(table)\n\u001b[1;32m     13\u001b[0m connection\u001b[38;5;241m.\u001b[39mcommit()\n",
      "\u001b[0;31mOperationalError\u001b[0m: table people already exists"
     ]
    }
   ],
   "source": [
    "#sqlite :its represented by a file.\n",
    "#no client communication.connect direct witout. any configuration\n",
    "#pretty straigt forward\n",
    "\n",
    "import sqlite3\n",
    "\n",
    "connection = sqlite3.connect('sample.db')\n",
    "\n",
    "table = 'CREATE TABLE people(id int primary key, name TEXT, surname TEXT)'\n",
    "\n",
    "cursor = connection.cursor()\n",
    "cursor.execute(table)\n",
    "connection.commit()"
   ]
  },
  {
   "cell_type": "code",
   "execution_count": null,
   "id": "0146b536",
   "metadata": {},
   "outputs": [],
   "source": [
    "# SQLite can run in-memory, no file will be created, and when the program ends, the database goes away\n",
    "import sqlite3\n",
    "connection = sqlite3.connect(':memory:')"
   ]
  },
  {
   "cell_type": "code",
   "execution_count": null,
   "id": "dd1b957f",
   "metadata": {},
   "outputs": [],
   "source": [
    "#There are two steps for executing the query. First we use the cursor to execute it, and then we commit the result to the database.\n",
    "\n",
    "#cursor = connection.cursor()\n",
    "#cursor.execute(table)\n",
    "#connection.commit()"
   ]
  },
  {
   "cell_type": "code",
   "execution_count": 4,
   "id": "2cc13b2b",
   "metadata": {},
   "outputs": [
    {
     "name": "stdout",
     "output_type": "stream",
     "text": [
      "Collecting faker\n",
      "  Obtaining dependency information for faker from https://files.pythonhosted.org/packages/c8/3d/ed83cf090e31f5ef4d191a2e25500fc65281fb46d45f0cc224fd0f48b435/Faker-24.0.0-py3-none-any.whl.metadata\n",
      "  Downloading Faker-24.0.0-py3-none-any.whl.metadata (15 kB)\n",
      "Requirement already satisfied: python-dateutil>=2.4 in /Users/tla/anaconda3/lib/python3.11/site-packages (from faker) (2.8.2)\n",
      "Requirement already satisfied: six>=1.5 in /Users/tla/anaconda3/lib/python3.11/site-packages (from python-dateutil>=2.4->faker) (1.16.0)\n",
      "Downloading Faker-24.0.0-py3-none-any.whl (1.8 MB)\n",
      "\u001b[2K   \u001b[90m━━━━━━━━━━━━━━━━━━━━━━━━━━━━━━━━━━━━━━━━\u001b[0m \u001b[32m1.8/1.8 MB\u001b[0m \u001b[31m795.2 kB/s\u001b[0m eta \u001b[36m0:00:00\u001b[0ma \u001b[36m0:00:01\u001b[0m\n",
      "\u001b[?25hInstalling collected packages: faker\n",
      "Successfully installed faker-24.0.0\n"
     ]
    }
   ],
   "source": [
    "#instal a library called faker to generate random  date\n",
    "!pip install faker\n",
    "#elps to generate some random names into our db"
   ]
  },
  {
   "cell_type": "code",
   "execution_count": 2,
   "id": "43b57c64",
   "metadata": {},
   "outputs": [
    {
     "data": {
      "text/plain": [
       "[['Matthew', 'Turner'],\n",
       " ['Kristopher', 'Crawford'],\n",
       " ['Christina', 'Jenkins'],\n",
       " ['Jorge', 'Johnson'],\n",
       " ['Justin', 'Jones'],\n",
       " ['Ann', 'Carr'],\n",
       " ['Amy', 'Sandoval'],\n",
       " ['Jesse', 'Schmidt'],\n",
       " ['Cody', 'West'],\n",
       " ['Justin', 'Williamson'],\n",
       " ['Gary', 'Morgan'],\n",
       " ['Jasmine', 'Martinez'],\n",
       " ['Jacqueline', 'Williams'],\n",
       " ['Tamara', 'Grant'],\n",
       " ['Deanna', 'Parrish'],\n",
       " ['Amber', 'Hernandez'],\n",
       " ['David', 'Woods'],\n",
       " ['Dawn', 'Bates'],\n",
       " ['Jasmine', 'Butler'],\n",
       " ['Michael', 'Blackburn'],\n",
       " ['Matthew', 'Johnson'],\n",
       " ['Timothy', 'Sims'],\n",
       " ['Alyssa', 'Booth'],\n",
       " ['Kevin', 'Berg'],\n",
       " ['Nicholas', 'Johnson'],\n",
       " ['Linda', 'Baker'],\n",
       " ['Ryan', 'Fisher'],\n",
       " ['Kimberly', 'Barnes'],\n",
       " ['Melissa', 'Hill'],\n",
       " ['Jordan', 'Hudson'],\n",
       " ['Cindy', 'Holden'],\n",
       " ['Julie', 'Adams'],\n",
       " ['Russell', 'Johnson'],\n",
       " ['Jennifer', 'Andersen'],\n",
       " ['Jane', 'Mcconnell'],\n",
       " ['Kristina', 'Mills'],\n",
       " ['Brad', 'Collins'],\n",
       " ['Joan', 'Taylor'],\n",
       " ['Megan', 'Brown'],\n",
       " ['Nicole', 'Pham'],\n",
       " ['Brendan', 'Martinez'],\n",
       " ['Donna', 'Moreno'],\n",
       " ['David', 'Clements'],\n",
       " ['Jeffrey', 'Jordan'],\n",
       " ['Meredith', 'Gallegos'],\n",
       " ['Jeffery', 'Mahoney'],\n",
       " ['Joseph', 'Sandoval'],\n",
       " ['Ian', 'Beck'],\n",
       " ['Elizabeth', 'Bowers'],\n",
       " ['William', 'Sanders'],\n",
       " ['Jason', 'Garrett'],\n",
       " ['Misty', 'Harrington'],\n",
       " ['Joseph', 'Reese'],\n",
       " ['Bryan', 'Hinton'],\n",
       " ['Erika', 'Allen'],\n",
       " ['Christopher', 'Hernandez'],\n",
       " ['James', 'Walsh'],\n",
       " ['Ryan', 'Wagner'],\n",
       " ['Laura', 'Smith'],\n",
       " ['Jennifer', 'Williams'],\n",
       " ['William', 'Fisher'],\n",
       " ['Andrew', 'Griffin'],\n",
       " ['Kelly', 'Henderson'],\n",
       " ['Jessica', 'Key'],\n",
       " ['Matthew', 'Parker'],\n",
       " ['Wanda', 'Tran'],\n",
       " ['Sandra', 'Gibson'],\n",
       " ['Kelly', 'Long'],\n",
       " ['Gloria', 'Peterson'],\n",
       " ['Alejandro', 'Lewis'],\n",
       " ['Megan', 'Roy'],\n",
       " ['Rachel', 'Morales'],\n",
       " ['Patrick', 'Burke'],\n",
       " ['Adam', 'Weber'],\n",
       " ['Steve', 'Medina'],\n",
       " ['David', 'Wong'],\n",
       " ['Daniel', 'Hunt'],\n",
       " ['Keith', 'Gallagher'],\n",
       " ['Kevin', 'Kennedy'],\n",
       " ['Victoria', 'Reyes'],\n",
       " ['Julie', 'Hansen'],\n",
       " ['Craig', 'Jones'],\n",
       " ['Natalie', 'Gibson'],\n",
       " ['Dalton', 'King'],\n",
       " ['Amy', 'Weaver'],\n",
       " ['Robert', 'Aguirre'],\n",
       " ['Justin', 'Hood'],\n",
       " ['Leslie', 'Humphrey'],\n",
       " ['Jeremy', 'Warren'],\n",
       " ['Nicholas', 'Palmer'],\n",
       " ['Fernando', 'Johnson'],\n",
       " ['Sarah', 'Fields'],\n",
       " ['Leah', 'Adkins'],\n",
       " ['Steve', 'Griffin'],\n",
       " ['Stephanie', 'Martin'],\n",
       " ['Catherine', 'Humphrey']]"
      ]
     },
     "execution_count": 2,
     "metadata": {},
     "output_type": "execute_result"
    }
   ],
   "source": [
    "from faker import Faker\n",
    "fake = Faker()\n",
    "\n",
    "names = [fake.name().split() for i in range(100)]\n",
    "names = [name for name in names if len(name) == 2]\n",
    "names\n"
   ]
  },
  {
   "cell_type": "code",
   "execution_count": 3,
   "id": "d43c207f",
   "metadata": {},
   "outputs": [],
   "source": [
    "import sqlite3\n",
    "connection = sqlite3.connect(\"sample.db\")"
   ]
  },
  {
   "cell_type": "code",
   "execution_count": 5,
   "id": "109a484a",
   "metadata": {},
   "outputs": [],
   "source": [
    "insert_query = 'INSERT INTO people(name, surname) VALUES(? ,?)'\n",
    "cursor = connection.cursor()\n",
    "for name in names:\n",
    "    cursor.execute(insert_query, name)\n",
    "connection.commit()"
   ]
  },
  {
   "cell_type": "code",
   "execution_count": 6,
   "id": "a7e7c329",
   "metadata": {},
   "outputs": [
    {
     "name": "stdout",
     "output_type": "stream",
     "text": [
      "(None, 'Matthew', 'Turner')\n",
      "(None, 'Kristopher', 'Crawford')\n",
      "(None, 'Christina', 'Jenkins')\n",
      "(None, 'Jorge', 'Johnson')\n",
      "(None, 'Justin', 'Jones')\n",
      "(None, 'Ann', 'Carr')\n",
      "(None, 'Amy', 'Sandoval')\n",
      "(None, 'Jesse', 'Schmidt')\n",
      "(None, 'Cody', 'West')\n",
      "(None, 'Justin', 'Williamson')\n"
     ]
    }
   ],
   "source": [
    "select_query = 'SELECT * from people limit 10'\n",
    "for i in cursor.execute(select_query):\n",
    "    print(i)"
   ]
  },
  {
   "cell_type": "code",
   "execution_count": null,
   "id": "f54525fd",
   "metadata": {},
   "outputs": [],
   "source": []
  }
 ],
 "metadata": {
  "kernelspec": {
   "display_name": "Python 3 (ipykernel)",
   "language": "python",
   "name": "python3"
  },
  "language_info": {
   "codemirror_mode": {
    "name": "ipython",
    "version": 3
   },
   "file_extension": ".py",
   "mimetype": "text/x-python",
   "name": "python",
   "nbconvert_exporter": "python",
   "pygments_lexer": "ipython3",
   "version": "3.11.5"
  }
 },
 "nbformat": 4,
 "nbformat_minor": 5
}
